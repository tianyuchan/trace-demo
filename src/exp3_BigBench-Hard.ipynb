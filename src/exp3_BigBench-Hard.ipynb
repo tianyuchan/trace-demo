{
 "cells": [
  {
   "cell_type": "markdown",
   "id": "ced4af91",
   "metadata": {},
   "source": [
    "# BigBench-Hard\n",
    "演示如何使用 trace 包来优化 BigBench-Hard 基准的自然语言处理任务的提示和代码。"
   ]
  },
  {
   "cell_type": "markdown",
   "id": "56ea7a42",
   "metadata": {},
   "source": []
  }
 ],
 "metadata": {
  "language_info": {
   "name": "python"
  }
 },
 "nbformat": 4,
 "nbformat_minor": 5
}
