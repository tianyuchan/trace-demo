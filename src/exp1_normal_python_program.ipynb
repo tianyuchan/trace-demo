{
 "cells": [
  {
   "cell_type": "markdown",
   "id": "2219ef48",
   "metadata": {},
   "source": [
    "# First: 5-Minute Basics\n",
    "https://microsoft.github.io/Trace/quickstart/quick_start.html"
   ]
  },
  {
   "cell_type": "code",
   "execution_count": 1,
   "id": "8be8937a",
   "metadata": {},
   "outputs": [
    {
     "data": {
      "text/plain": [
       "True"
      ]
     },
     "execution_count": 1,
     "metadata": {},
     "output_type": "execute_result"
    }
   ],
   "source": [
    "from dotenv import load_dotenv\n",
    "load_dotenv()"
   ]
  },
  {
   "cell_type": "markdown",
   "id": "568fb9fb",
   "metadata": {},
   "source": [
    "## Trace Python Program"
   ]
  },
  {
   "cell_type": "code",
   "execution_count": 2,
   "id": "90055436",
   "metadata": {},
   "outputs": [],
   "source": [
    "from opto.trace import node, bundle\n",
    "\n",
    "@bundle(trainable=True)\n",
    "def strange_sort_list(lst):\n",
    "    '''\n",
    "    Given list of integers, return list in strange order.\n",
    "    Strange sorting, is when you start with the minimum value,\n",
    "    then maximum of the remaining integers, then minimum and so on.\n",
    "\n",
    "    Examples:\n",
    "    strange_sort_list([1, 2, 3, 4]) == [1, 4, 2, 3]\n",
    "    strange_sort_list([5, 5, 5, 5]) == [5, 5, 5, 5]\n",
    "    strange_sort_list([]) == []\n",
    "    '''\n",
    "    lst = sorted(lst)\n",
    "    return lst"
   ]
  },
  {
   "cell_type": "markdown",
   "id": "8ae17cf6",
   "metadata": {},
   "source": [
    "## Optimize with Feedback"
   ]
  },
  {
   "cell_type": "code",
   "execution_count": 3,
   "id": "64907d6e",
   "metadata": {},
   "outputs": [],
   "source": [
    "# 设计反馈\n",
    "def get_feedback(predict, target):\n",
    "    if predict == target:\n",
    "        return \"test case passed!\"\n",
    "    else:\n",
    "        return \"test case failed!\""
   ]
  },
  {
   "cell_type": "code",
   "execution_count": 4,
   "id": "75d6b4af",
   "metadata": {},
   "outputs": [
    {
     "name": "stdout",
     "output_type": "stream",
     "text": [
      "Using CustomLLM as the default LLM backend.\n",
      "Training Epoch 0\n",
      "Training Epoch 1\n"
     ]
    }
   ],
   "source": [
    "# 迭代优化\n",
    "from opto.optimizers import OptoPrime\n",
    "from opto import trace\n",
    "\n",
    "test_ground_truth = [1, 4, 2, 3]\n",
    "test_input = [1, 2, 3, 4]\n",
    "\n",
    "epoch = 2\n",
    "\n",
    "optimizer = OptoPrime(strange_sort_list.parameters())\n",
    "\n",
    "for i in range(epoch):\n",
    "    print(f\"Training Epoch {i}\")\n",
    "    try:\n",
    "        test_output = strange_sort_list(test_input)\n",
    "        feedback = get_feedback(test_output, test_ground_truth)\n",
    "    except trace.ExecutionError as e:\n",
    "        feedback = e.exception_node.data\n",
    "        test_output = e.exception_node\n",
    "    \n",
    "    correctness = test_output.eq(test_ground_truth)\n",
    "    \n",
    "    if correctness:\n",
    "        break\n",
    "\n",
    "    optimizer.zero_feedback()\n",
    "    optimizer.backward(correctness, feedback)\n",
    "    optimizer.step()"
   ]
  },
  {
   "cell_type": "code",
   "execution_count": 5,
   "id": "f04ada5b",
   "metadata": {},
   "outputs": [
    {
     "data": {
      "text/html": [
       "\n",
       "        <div style=\"font-family: Arial, sans-serif; max-width: 600px; margin-bottom: 10px;\">\n",
       "            <!-- First set of blocks -->\n",
       "    \n",
       "            <div style=\"display: flex; align-items: stretch; margin-bottom: 10px;\">\n",
       "                <div style=\"flex-grow: 1; background-color: #E0E0E0; border: 2px solid #9E9E9E; padding: 10px; border-radius: 5px; width: 550px;\">\n",
       "                    <p><b>Trace Graph</b></p><pre style=\"margin: 0; white-space: pre-wrap; word-wrap: break-word;\">\n",
       "\n",
       "#Code\n",
       "eval0 = eval(lst=lst0, __code=__code0)\n",
       "eq0 = eq(x=eval0, y=list0)\n",
       "\n",
       "#Documentation\n",
       "[eval] This operator eval(__code, *args, **kwargs) evaluates the code block, where __code is the code (str) and *args and **kwargs are the arguments of the function. The output is the result of the evaluation, i.e., __code(*args, **kwargs).\n",
       "[eq] This is an eq operator of x and y..\n",
       "\n",
       "#Variables\n",
       "(code) __code0:def strange_sort_list(lst):\n",
       "    '''\n",
       "    Given list of integers, return list in strange order.\n",
       "    Strange sorting, is when you start with the minimum value,\n",
       "    then maximum of the remaining integers, then minimum and so on.\n",
       "\n",
       "    Examples:\n",
       "    strange_sort_list([1, 2, 3, 4]) == [1, 4, 2, 3]\n",
       "    strange_sort_list([5, 5, 5, 5]) == [5, 5, 5, 5]\n",
       "    strange_sort_list([]) == []\n",
       "    '''\n",
       "    lst = sorted(lst)\n",
       "    return lst\n",
       "\n",
       "#Constraints\n",
       "(code) __code0: The code should start with:\n",
       "def strange_sort_list(lst):\n",
       "\n",
       "#Inputs\n",
       "(list) lst0=[1, 2, 3, 4]\n",
       "(list) list0=[1, 4, 2, 3]\n",
       "\n",
       "#Outputs\n",
       "(bool) eq0=False\n",
       "\n",
       "</pre>\n",
       "                </div>\n",
       "                <div style=\"width: 40px; display: flex; align-items: center; justify-content: center; font-size: 24px; color: #9E9E9E;\">\n",
       "                    g<sub>0</sub>\n",
       "                </div>\n",
       "            </div>\n",
       "        \n",
       "            <div style=\"display: flex; align-items: stretch; margin-bottom: 10px;\">\n",
       "                <div style=\"flex-grow: 1; background-color: #FFB3BA; border: 2px solid #FF6B6B; padding: 10px; border-radius: 5px;\">\n",
       "                    <p style=\"margin: 0;\"><b>Feedback: </b>test case failed!</p>\n",
       "                </div>\n",
       "                <div style=\"width: 40px; display: flex; align-items: center; justify-content: center; font-size: 24px; color: #FF6B6B;\">\n",
       "                    f<sub>0</sub>\n",
       "                </div>\n",
       "            </div>\n",
       "\n",
       "            <div style=\"display: flex; align-items: stretch; margin-bottom: 10px;\">\n",
       "                <div style=\"flex-grow: 1; background-color: #BAFFC9; border: 2px solid #4CAF50; padding: 10px; border-radius: 5px; width: 550px;\">\n",
       "                    <p style=\"margin: 0;\"><b>Reasoning: </b>The #Instruction asks us to improve the output based on the feedback provided. From the #Feedback, 'test case failed' indicates that the function `strange_sort_list` (defined in __code0) did not produce the desired output, which should match `list0`. Looking deeper into #Code, `eval0`, which evaluates the function using the input list `lst0`, returns `[1, 2, 3, 4]` — a sorted version of the input list. However, the desired 'strange order' result (as described in the docstring) should alternate between the minimum and maximum values. The desired result (per #Inputs) is `[1, 4, 2, 3]`. The issue arises because the current implementation in __code0 simply sorts `lst` and does not implement the 'strange sort' logic. We need to update the `strange_sort_list` function to correctly fulfil the requirement of alternating between the minimum and maximum values to resolve this issue. Post-fix, we expect `eval0` to match `list0`, and `eq0` to evaluate to True.</p>\n",
       "                </div>\n",
       "                <div style=\"width: 40px; display: flex; align-items: center; justify-content: center; font-size: 24px; color: #4CAF50;\">\n",
       "                    r<sub>1</sub>\n",
       "                </div>\n",
       "            </div>\n",
       "        \n",
       "                <div style=\"display: flex; align-items: stretch; margin-bottom: 20px;\">\n",
       "                <div style=\"flex-grow: 1; background-color: 'white'; border: 2px solid #4D9DE0; padding: 10px; border-radius: 5px;\">\n",
       "                    <p><b>Improvement</b></p>\n",
       "                    <pre style=\"margin: 0; white-space: pre-wrap; word-wrap: break-word; font-family: monospace; background-color: 'white';\">__code0:\n",
       "\n",
       "def strange_sort_list(lst):\n",
       "    '''\n",
       "    Given list of integers, return list in strange order.\n",
       "    Strange sorting is when you start with the minimum value,\n",
       "    then maximum of the remaining integers, then minimum, and so on.\n",
       "    '''\n",
       "    lst = sorted(lst)  # Sort the list first\n",
       "    result = []\n",
       "    while lst:\n",
       "        result.append(lst.pop(0))  # Add the smallest value\n",
       "        if lst:\n",
       "            result.append(lst.pop(-1))  # Add the largest value\n",
       "    return result\n",
       "\n",
       "</pre>\n",
       "                </div>\n",
       "                <div style=\"width: 40px; display: flex; align-items: center; justify-content: center; font-size: 24px; color: #4D9DE0;\">\n",
       "                    a<sub>1</sub>\n",
       "                </div>\n",
       "            </div>\n",
       "        </div>"
      ],
      "text/plain": [
       "<IPython.core.display.HTML object>"
      ]
     },
     "metadata": {},
     "output_type": "display_data"
    }
   ],
   "source": [
    "# 可视化优化器优化过程\n",
    "from opto.trace.utils import render_opt_step\n",
    "render_opt_step(0, optimizer)"
   ]
  },
  {
   "cell_type": "code",
   "execution_count": 6,
   "id": "6dc1b980",
   "metadata": {},
   "outputs": [
    {
     "name": "stdout",
     "output_type": "stream",
     "text": [
      "def strange_sort_list(lst):\n",
      "    \"\"\"\n",
      "    Given list of integers, return list in strange order.\n",
      "    Strange sorting is when you start with the minimum value,\n",
      "    then maximum of the remaining integers, then minimum, and so on.\n",
      "    \"\"\"\n",
      "    lst = sorted(lst)  # Sort the list first\n",
      "    result = []\n",
      "    while lst:\n",
      "        result.append(lst.pop(0))  # Add the smallest value\n",
      "        if lst:\n",
      "            result.append(lst.pop(-1))  # Add the largest value\n",
      "    return result\n",
      "\n"
     ]
    }
   ],
   "source": [
    "# 查看优化后的代码\n",
    "print(strange_sort_list.parameters()[0].data)"
   ]
  },
  {
   "cell_type": "markdown",
   "id": "9e8d270e",
   "metadata": {},
   "source": [
    "## The Optimized Function is Runnable"
   ]
  },
  {
   "cell_type": "code",
   "execution_count": 7,
   "id": "fff7468c",
   "metadata": {},
   "outputs": [
    {
     "name": "stdout",
     "output_type": "stream",
     "text": [
      "MessageNode: (eval:2, dtype=<class 'list'>, data=[2, 5, 3, 5])\n"
     ]
    }
   ],
   "source": [
    "# 传入一个不同的测试示例来看看它是否有效\n",
    "new_test_input = [5, 3, 2, 5]\n",
    "new_test_output = strange_sort_list(new_test_input)\n",
    "\n",
    "# 可以看到，现在答案是正确的！（在最小值和最大值之间交替的数字！）\n",
    "print(new_test_output)"
   ]
  },
  {
   "cell_type": "markdown",
   "id": "79493a4c",
   "metadata": {},
   "source": [
    "## Save and Load the Optimized Function"
   ]
  },
  {
   "cell_type": "code",
   "execution_count": 8,
   "id": "c86ad500",
   "metadata": {},
   "outputs": [],
   "source": [
    "# 事实上，就像 PyTorch 一样，也可以轻松保存和加载这个函数。\n",
    "strange_sort_list.save(\"strange_sort_list.pkl\")"
   ]
  },
  {
   "cell_type": "markdown",
   "id": "ae236522",
   "metadata": {},
   "source": [
    "## Coder-Verifier Framework using Trace"
   ]
  },
  {
   "cell_type": "code",
   "execution_count": 9,
   "id": "699226a9",
   "metadata": {},
   "outputs": [
    {
     "name": "stdout",
     "output_type": "stream",
     "text": [
      "MessageNode: (eval:1, dtype=<class 'list'>, data=[1, 2, 3])\n"
     ]
    },
    {
     "data": {
      "image/svg+xml": [
       "<?xml version=\"1.0\" encoding=\"UTF-8\" standalone=\"no\"?>\n",
       "<!DOCTYPE svg PUBLIC \"-//W3C//DTD SVG 1.1//EN\"\n",
       " \"http://www.w3.org/Graphics/SVG/1.1/DTD/svg11.dtd\">\n",
       "<!-- Generated by graphviz version 12.2.1 (20241206.2353)\n",
       " -->\n",
       "<!-- Pages: 1 -->\n",
       "<svg width=\"1653pt\" height=\"610pt\"\n",
       " viewBox=\"0.00 0.00 1652.80 609.95\" xmlns=\"http://www.w3.org/2000/svg\" xmlns:xlink=\"http://www.w3.org/1999/xlink\">\n",
       "<g id=\"graph0\" class=\"graph\" transform=\"scale(1 1) rotate(0) translate(4 605.95)\">\n",
       "<polygon fill=\"white\" stroke=\"none\" points=\"-4,4 -4,-605.95 1648.8,-605.95 1648.8,4 -4,4\"/>\n",
       "<!-- eval1 -->\n",
       "<g id=\"node1\" class=\"node\">\n",
       "<title>eval1</title>\n",
       "<ellipse fill=\"#deebf6\" stroke=\"#5c9bd5\" stroke-width=\"1.2\" cx=\"822.4\" cy=\"-157.98\" rx=\"411.71\" ry=\"40.66\"/>\n",
       "<text text-anchor=\"middle\" x=\"822.4\" y=\"-169.43\" font-family=\"Times,serif\" font-size=\"14.00\">eval1</text>\n",
       "<text text-anchor=\"middle\" x=\"822.4\" y=\"-152.93\" font-family=\"Times,serif\" font-size=\"14.00\">[eval] This operator eval(__code, *args, **kwargs) evaluates the code block, where __code is the cod...</text>\n",
       "<text text-anchor=\"middle\" x=\"822.4\" y=\"-136.43\" font-family=\"Times,serif\" font-size=\"14.00\">[1, 2, 3]</text>\n",
       "</g>\n",
       "<!-- eq0 -->\n",
       "<g id=\"node2\" class=\"node\">\n",
       "<title>eq0</title>\n",
       "<ellipse fill=\"#deebf6\" stroke=\"#5c9bd5\" stroke-width=\"1.2\" cx=\"1042.4\" cy=\"-40.66\" rx=\"159.28\" ry=\"40.66\"/>\n",
       "<text text-anchor=\"middle\" x=\"1042.4\" y=\"-52.11\" font-family=\"Times,serif\" font-size=\"14.00\">eq0</text>\n",
       "<text text-anchor=\"middle\" x=\"1042.4\" y=\"-35.61\" font-family=\"Times,serif\" font-size=\"14.00\">[eq] This is an eq operator of x and y..</text>\n",
       "<text text-anchor=\"middle\" x=\"1042.4\" y=\"-19.11\" font-family=\"Times,serif\" font-size=\"14.00\">True</text>\n",
       "</g>\n",
       "<!-- eval1&#45;&gt;eq0 -->\n",
       "<g id=\"edge1\" class=\"edge\">\n",
       "<title>eval1&#45;&gt;eq0</title>\n",
       "<path fill=\"none\" stroke=\"black\" d=\"M897.5,-117.61C918.77,-106.46 941.99,-94.29 963.49,-83.02\"/>\n",
       "<polygon fill=\"black\" stroke=\"black\" points=\"964.98,-86.19 972.22,-78.45 961.73,-79.99 964.98,-86.19\"/>\n",
       "</g>\n",
       "<!-- getitem1 -->\n",
       "<g id=\"node3\" class=\"node\">\n",
       "<title>getitem1</title>\n",
       "<ellipse fill=\"#deebf6\" stroke=\"#5c9bd5\" stroke-width=\"1.2\" cx=\"1268.4\" cy=\"-288.13\" rx=\"231.93\" ry=\"40.66\"/>\n",
       "<text text-anchor=\"middle\" x=\"1268.4\" y=\"-299.58\" font-family=\"Times,serif\" font-size=\"14.00\">getitem1</text>\n",
       "<text text-anchor=\"middle\" x=\"1268.4\" y=\"-283.08\" font-family=\"Times,serif\" font-size=\"14.00\">[getitem] This is a getitem operator of x based on index..</text>\n",
       "<text text-anchor=\"middle\" x=\"1268.4\" y=\"-266.58\" font-family=\"Times,serif\" font-size=\"14.00\">[1, 2, 3]</text>\n",
       "</g>\n",
       "<!-- getitem1&#45;&gt;eq0 -->\n",
       "<g id=\"edge2\" class=\"edge\">\n",
       "<title>getitem1&#45;&gt;eq0</title>\n",
       "<path fill=\"none\" stroke=\"black\" d=\"M1273.23,-247.29C1275.53,-209.71 1272.86,-153.86 1243.4,-117.32 1226.53,-96.4 1203.23,-81.26 1178.46,-70.31\"/>\n",
       "<polygon fill=\"black\" stroke=\"black\" points=\"1180.12,-67.21 1169.55,-66.59 1177.43,-73.67 1180.12,-67.21\"/>\n",
       "</g>\n",
       "<!-- getitem0 -->\n",
       "<g id=\"node4\" class=\"node\">\n",
       "<title>getitem0</title>\n",
       "<ellipse fill=\"#deebf6\" stroke=\"#5c9bd5\" stroke-width=\"1.2\" cx=\"376.4\" cy=\"-288.13\" rx=\"231.93\" ry=\"40.66\"/>\n",
       "<text text-anchor=\"middle\" x=\"376.4\" y=\"-299.58\" font-family=\"Times,serif\" font-size=\"14.00\">getitem0</text>\n",
       "<text text-anchor=\"middle\" x=\"376.4\" y=\"-283.08\" font-family=\"Times,serif\" font-size=\"14.00\">[getitem] This is a getitem operator of x based on index..</text>\n",
       "<text text-anchor=\"middle\" x=\"376.4\" y=\"-266.58\" font-family=\"Times,serif\" font-size=\"14.00\">[1, 2, 3]</text>\n",
       "</g>\n",
       "<!-- getitem0&#45;&gt;eval1 -->\n",
       "<g id=\"edge3\" class=\"edge\">\n",
       "<title>getitem0&#45;&gt;eval1</title>\n",
       "<path fill=\"none\" stroke=\"black\" d=\"M495.63,-252.87C552.1,-236.65 620.01,-217.13 679.26,-200.11\"/>\n",
       "<polygon fill=\"black\" stroke=\"black\" points=\"680.11,-203.5 688.76,-197.38 678.18,-196.78 680.11,-203.5\"/>\n",
       "</g>\n",
       "<!-- __code0 -->\n",
       "<g id=\"node5\" class=\"node\">\n",
       "<title>__code0</title>\n",
       "<polygon fill=\"#ffe5e5\" stroke=\"#ff7e79\" stroke-width=\"1.2\" points=\"1018.27,-341.63 626.52,-341.63 626.52,-234.63 1018.27,-234.63 1018.27,-341.63\"/>\n",
       "<text text-anchor=\"middle\" x=\"822.4\" y=\"-324.33\" font-family=\"Times,serif\" font-size=\"14.00\">__code0</text>\n",
       "<text text-anchor=\"middle\" x=\"822.4\" y=\"-307.83\" font-family=\"Times,serif\" font-size=\"14.00\">[ParameterNode] This is a ParameterNode in a computational graph.</text>\n",
       "<text text-anchor=\"middle\" x=\"822.4\" y=\"-291.33\" font-family=\"Times,serif\" font-size=\"14.00\">def strange_sort_list(lst):</text>\n",
       "<text text-anchor=\"middle\" x=\"822.4\" y=\"-274.83\" font-family=\"Times,serif\" font-size=\"14.00\"> &#160;&#160;&#160;&#39;&#39;&#39;</text>\n",
       "<text text-anchor=\"middle\" x=\"822.4\" y=\"-258.33\" font-family=\"Times,serif\" font-size=\"14.00\"> &#160;&#160;&#160;Given list of integers, return list in strange order.</text>\n",
       "<text text-anchor=\"middle\" x=\"822.4\" y=\"-241.83\" font-family=\"Times,serif\" font-size=\"14.00\"> &#160;&#160;&#160;St...</text>\n",
       "</g>\n",
       "<!-- __code0&#45;&gt;eval1 -->\n",
       "<g id=\"edge4\" class=\"edge\">\n",
       "<title>__code0&#45;&gt;eval1</title>\n",
       "<path fill=\"none\" stroke=\"black\" d=\"M822.4,-234.27C822.4,-226.3 822.4,-218.09 822.4,-210.16\"/>\n",
       "<polygon fill=\"black\" stroke=\"black\" points=\"825.9,-210.31 822.4,-200.31 818.9,-210.31 825.9,-210.31\"/>\n",
       "</g>\n",
       "<!-- eval0 -->\n",
       "<g id=\"node6\" class=\"node\">\n",
       "<title>eval0</title>\n",
       "<ellipse fill=\"#deebf6\" stroke=\"#5c9bd5\" stroke-width=\"1.2\" cx=\"822.4\" cy=\"-418.29\" rx=\"411.71\" ry=\"40.66\"/>\n",
       "<text text-anchor=\"middle\" x=\"822.4\" y=\"-429.74\" font-family=\"Times,serif\" font-size=\"14.00\">eval0</text>\n",
       "<text text-anchor=\"middle\" x=\"822.4\" y=\"-413.24\" font-family=\"Times,serif\" font-size=\"14.00\">[eval] This operator eval(__code, *args, **kwargs) evaluates the code block, where __code is the cod...</text>\n",
       "<text text-anchor=\"middle\" x=\"822.4\" y=\"-396.74\" font-family=\"Times,serif\" font-size=\"14.00\">([1, 2, 3], [1, 2, 3])</text>\n",
       "</g>\n",
       "<!-- eval0&#45;&gt;getitem1 -->\n",
       "<g id=\"edge7\" class=\"edge\">\n",
       "<title>eval0&#45;&gt;getitem1</title>\n",
       "<path fill=\"none\" stroke=\"black\" d=\"M954.4,-379.36C1012.44,-362.68 1080.4,-343.16 1138.22,-326.54\"/>\n",
       "<polygon fill=\"black\" stroke=\"black\" points=\"1139.17,-329.91 1147.82,-323.78 1137.24,-323.18 1139.17,-329.91\"/>\n",
       "</g>\n",
       "<!-- eval0&#45;&gt;getitem0 -->\n",
       "<g id=\"edge5\" class=\"edge\">\n",
       "<title>eval0&#45;&gt;getitem0</title>\n",
       "<path fill=\"none\" stroke=\"black\" d=\"M690.39,-379.36C632.36,-362.68 564.4,-343.16 506.57,-326.54\"/>\n",
       "<polygon fill=\"black\" stroke=\"black\" points=\"507.56,-323.18 496.98,-323.78 505.62,-329.91 507.56,-323.18\"/>\n",
       "</g>\n",
       "<!-- int0 -->\n",
       "<g id=\"node7\" class=\"node\">\n",
       "<title>int0</title>\n",
       "<ellipse fill=\"#deebf6\" stroke=\"#5c9bd5\" stroke-width=\"1.2\" cx=\"196.4\" cy=\"-418.29\" rx=\"196.4\" ry=\"40.66\"/>\n",
       "<text text-anchor=\"middle\" x=\"196.4\" y=\"-429.74\" font-family=\"Times,serif\" font-size=\"14.00\">int0</text>\n",
       "<text text-anchor=\"middle\" x=\"196.4\" y=\"-413.24\" font-family=\"Times,serif\" font-size=\"14.00\">[Node] This is a node in a computational graph.</text>\n",
       "<text text-anchor=\"middle\" x=\"196.4\" y=\"-396.74\" font-family=\"Times,serif\" font-size=\"14.00\">0</text>\n",
       "</g>\n",
       "<!-- int0&#45;&gt;getitem0 -->\n",
       "<g id=\"edge6\" class=\"edge\">\n",
       "<title>int0&#45;&gt;getitem0</title>\n",
       "<path fill=\"none\" stroke=\"black\" d=\"M250.4,-378.84C269.98,-364.9 292.28,-349.03 312.62,-334.55\"/>\n",
       "<polygon fill=\"black\" stroke=\"black\" points=\"314.46,-337.53 320.58,-328.88 310.4,-331.83 314.46,-337.53\"/>\n",
       "</g>\n",
       "<!-- int1 -->\n",
       "<g id=\"node8\" class=\"node\">\n",
       "<title>int1</title>\n",
       "<ellipse fill=\"#deebf6\" stroke=\"#5c9bd5\" stroke-width=\"1.2\" cx=\"1448.4\" cy=\"-418.29\" rx=\"196.4\" ry=\"40.66\"/>\n",
       "<text text-anchor=\"middle\" x=\"1448.4\" y=\"-429.74\" font-family=\"Times,serif\" font-size=\"14.00\">int1</text>\n",
       "<text text-anchor=\"middle\" x=\"1448.4\" y=\"-413.24\" font-family=\"Times,serif\" font-size=\"14.00\">[Node] This is a node in a computational graph.</text>\n",
       "<text text-anchor=\"middle\" x=\"1448.4\" y=\"-396.74\" font-family=\"Times,serif\" font-size=\"14.00\">1</text>\n",
       "</g>\n",
       "<!-- int1&#45;&gt;getitem1 -->\n",
       "<g id=\"edge8\" class=\"edge\">\n",
       "<title>int1&#45;&gt;getitem1</title>\n",
       "<path fill=\"none\" stroke=\"black\" d=\"M1394.39,-378.84C1374.82,-364.9 1352.52,-349.03 1332.18,-334.55\"/>\n",
       "<polygon fill=\"black\" stroke=\"black\" points=\"1334.4,-331.83 1324.22,-328.88 1330.34,-337.53 1334.4,-331.83\"/>\n",
       "</g>\n",
       "<!-- __code1 -->\n",
       "<g id=\"node9\" class=\"node\">\n",
       "<title>__code1</title>\n",
       "<polygon fill=\"#ffe5e5\" stroke=\"#ff7e79\" stroke-width=\"1.2\" points=\"1018.27,-601.95 626.52,-601.95 626.52,-494.95 1018.27,-494.95 1018.27,-601.95\"/>\n",
       "<text text-anchor=\"middle\" x=\"822.4\" y=\"-584.65\" font-family=\"Times,serif\" font-size=\"14.00\">__code1</text>\n",
       "<text text-anchor=\"middle\" x=\"822.4\" y=\"-568.15\" font-family=\"Times,serif\" font-size=\"14.00\">[ParameterNode] This is a ParameterNode in a computational graph.</text>\n",
       "<text text-anchor=\"middle\" x=\"822.4\" y=\"-551.65\" font-family=\"Times,serif\" font-size=\"14.00\">def verifier():</text>\n",
       "<text text-anchor=\"middle\" x=\"822.4\" y=\"-535.15\" font-family=\"Times,serif\" font-size=\"14.00\"> &#160;&#160;&#160;&quot;&quot;&quot;</text>\n",
       "<text text-anchor=\"middle\" x=\"822.4\" y=\"-518.65\" font-family=\"Times,serif\" font-size=\"14.00\"> &#160;&#160;&#160;For a coding problem described below:</text>\n",
       "<text text-anchor=\"middle\" x=\"822.4\" y=\"-502.15\" font-family=\"Times,serif\" font-size=\"14.00\"> &#160;&#160;&#160;Given list of integers, return...</text>\n",
       "</g>\n",
       "<!-- __code1&#45;&gt;eval0 -->\n",
       "<g id=\"edge9\" class=\"edge\">\n",
       "<title>__code1&#45;&gt;eval0</title>\n",
       "<path fill=\"none\" stroke=\"black\" d=\"M822.4,-494.58C822.4,-486.62 822.4,-478.41 822.4,-470.48\"/>\n",
       "<polygon fill=\"black\" stroke=\"black\" points=\"825.9,-470.63 822.4,-460.63 818.9,-470.63 825.9,-470.63\"/>\n",
       "</g>\n",
       "</g>\n",
       "</svg>\n"
      ],
      "text/plain": [
       "<graphviz.graphs.Digraph at 0x13601f5f0>"
      ]
     },
     "execution_count": 9,
     "metadata": {},
     "output_type": "execute_result"
    }
   ],
   "source": [
    "from opto.trace import node, bundle, GRAPH\n",
    "GRAPH.clear()\n",
    "\n",
    "@bundle(trainable=True)\n",
    "def strange_sort_list(lst):\n",
    "    '''\n",
    "    Given list of integers, return list in strange order.\n",
    "    Strange sorting, is when you start with the minimum value,\n",
    "    then maximum of the remaining integers, then minimum and so on.\n",
    "    '''\n",
    "    return sorted(lst)\n",
    "\n",
    "@bundle(trainable=True)\n",
    "def verifier():\n",
    "    \"\"\"\n",
    "    For a coding problem described below:\n",
    "    Given list of integers, return list in strange order.\n",
    "    Strange sorting, is when you start with the minimum value,\n",
    "    then maximum of the remaining integers, then minimum and so on.\n",
    "\n",
    "    Return a test input and an expected output to verify if the function is implemented correctly.\n",
    "    \"\"\"\n",
    "    test_input = [1,2,3]\n",
    "    expected_output = [1,2,3]\n",
    "    return test_input, expected_output\n",
    "\n",
    "test_input, expected_output = verifier()\n",
    "test_output = strange_sort_list(test_input)\n",
    "print(test_output)\n",
    "verifier_passed = test_output.eq(expected_output)\n",
    "verifier_passed.backward(\"synthetic test result\", visualize=True)"
   ]
  },
  {
   "cell_type": "code",
   "execution_count": 10,
   "id": "58a8cce2",
   "metadata": {},
   "outputs": [
    {
     "name": "stdout",
     "output_type": "stream",
     "text": [
      "Training Epoch 0\n",
      "Code function update\n",
      "Verifier update\n",
      "Training Epoch 1\n",
      "Code function update\n",
      "Code function update\n"
     ]
    }
   ],
   "source": [
    "from opto.optimizers import OptoPrime\n",
    "\n",
    "GRAPH.clear()\n",
    "\n",
    "test_ground_truth = [1, 4, 2, 3]\n",
    "test_ground_truth_input = [1, 2, 3, 4]\n",
    "\n",
    "epoch = 2\n",
    "\n",
    "code_optimizer = OptoPrime(strange_sort_list.parameters(), ignore_extraction_error=True)\n",
    "verifier_optimizer = OptoPrime(verifier.parameters(), ignore_extraction_error=True)\n",
    "\n",
    "for i in range(epoch):\n",
    "    print(f\"Training Epoch {i}\")\n",
    "\n",
    "    # Step 2: Coder optimizes till it passes the verifier\n",
    "    verifier_passed = False\n",
    "    while not verifier_passed:\n",
    "        print(f\"Code function update\")\n",
    "        try:\n",
    "            test_input, expected_output =  verifier()\n",
    "            test_output = strange_sort_list(test_input)\n",
    "            # note that we use the same feedback function as before\n",
    "            feedback = get_feedback(test_output.data, expected_output.data)\n",
    "        except trace.ExecutionError as e:\n",
    "            feedback = e.exception_node.data\n",
    "            test_output = e.exception_node\n",
    "            expected_output = None\n",
    "        verifier_passed = test_output.eq(expected_output)\n",
    "        \n",
    "        code_optimizer.zero_feedback()\n",
    "        code_optimizer.backward(verifier_passed, feedback, retain_graph=True)\n",
    "        code_optimizer.step()\n",
    "\n",
    "    # Step 3: Coder is checked by ground truth\n",
    "    try:\n",
    "        test_output = strange_sort_list(test_ground_truth_input)\n",
    "        feedback = get_feedback(test_output, test_ground_truth)\n",
    "    except trace.ExecutionError as e:\n",
    "        feedback = e.exception_node.data\n",
    "        test_output = e.exception_node\n",
    "    correctness = test_output.eq(test_ground_truth)\n",
    "    \n",
    "    if correctness:\n",
    "        break\n",
    "\n",
    "    # Step 4: If the Coder fails, Verifier needs to propose better unit tests\n",
    "    print(f\"Verifier update\")\n",
    "    feedback = \"Verifier proposed wrong test_input, expected_output that do not validate the implementation of the function.\"\n",
    "    verifier_optimizer.zero_feedback()\n",
    "    verifier_optimizer.backward(verifier_passed, feedback)\n",
    "    verifier_optimizer.step()"
   ]
  },
  {
   "cell_type": "code",
   "execution_count": 11,
   "id": "ba43ba36",
   "metadata": {},
   "outputs": [
    {
     "name": "stdout",
     "output_type": "stream",
     "text": [
      "ParameterNode: (__code:0, dtype=<class 'str'>, data=def strange_sort_list(lst):\n",
      "    \"\"\"\n",
      "    Given list of integers, return list in strange order.\n",
      "    Strange sorting is when you start with the minimum value,\n",
      "    then maximum of the remaining integers, then minimum and so on.\n",
      "    \"\"\"\n",
      "    sorted_lst = sorted(lst)\n",
      "    result = []\n",
      "    while sorted_lst:\n",
      "        result.append(sorted_lst.pop(0))  # Append minimum value\n",
      "        if sorted_lst:  # If there are remaining elements\n",
      "            result.append(sorted_lst.pop(-1))  # Append maximum value\n",
      "    return result\n",
      ")\n"
     ]
    }
   ],
   "source": [
    "print(strange_sort_list.parameters()[0])"
   ]
  },
  {
   "cell_type": "code",
   "execution_count": 12,
   "id": "4a97a62c",
   "metadata": {},
   "outputs": [
    {
     "name": "stdout",
     "output_type": "stream",
     "text": [
      "ParameterNode: (__code:1, dtype=<class 'str'>, data=def verifier():\n",
      "    \"\"\"\n",
      "    For a coding problem described below:\n",
      "    Given list of integers, return list in strange order.\n",
      "    Strange sorting, is when you start with the minimum value,\n",
      "    then maximum of the remaining integers, then minimum, and so on.\n",
      "\n",
      "    Return a test input and an expected output to verify if the function is implemented correctly.\n",
      "    \"\"\"\n",
      "    test_input = [1, 3, 2, 4]\n",
      "    expected_output = [1, 4, 2, 3]  # Alternating between minimum and maximum values\n",
      "    return test_input, expected_output\n",
      ")\n"
     ]
    }
   ],
   "source": [
    "print(verifier.parameters()[0])"
   ]
  }
 ],
 "metadata": {
  "kernelspec": {
   "display_name": ".venv",
   "language": "python",
   "name": "python3"
  },
  "language_info": {
   "codemirror_mode": {
    "name": "ipython",
    "version": 3
   },
   "file_extension": ".py",
   "mimetype": "text/x-python",
   "name": "python",
   "nbconvert_exporter": "python",
   "pygments_lexer": "ipython3",
   "version": "3.12.10"
  }
 },
 "nbformat": 4,
 "nbformat_minor": 5
}
